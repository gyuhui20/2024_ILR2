{
 "cells": [
  {
   "cell_type": "code",
   "execution_count": null,
   "metadata": {},
   "outputs": [],
   "source": [
    "# python version 3.11.4 기본\n",
    "# python 3.12.3 micromamba"
   ]
  },
  {
   "cell_type": "code",
   "execution_count": 3,
   "metadata": {},
   "outputs": [],
   "source": [
    "import numpy as np \n",
    "import matplotlib.pyplot as plt\n",
    "import pandas as pd\n",
    "import time as time"
   ]
  },
  {
   "cell_type": "code",
   "execution_count": 7,
   "metadata": {},
   "outputs": [],
   "source": [
    "def identity(x):\n",
    "    return x"
   ]
  },
  {
   "cell_type": "code",
   "execution_count": null,
   "metadata": {},
   "outputs": [],
   "source": [
    "class ESN(): #noise=beta?, out_act이 왜 identity? #나중에 필요없는거 추릴 것\n",
    "    def __init__(self, n_input, n_reservoir, n_output, noise, \n",
    "                 spectral_radius=0.95, sparsity=0, input_shift=None, input_scaling=None, feedback_scaling=None, \n",
    "                 teacher_forcing=False, teacher_scaling=None, teacher_shift=None, \n",
    "                 out_activation=idntity, inverse_out_activation=identity, random_state=None, silent=True): \n",
    "        self.n_inputs = n_inputs\n",
    "        self.n_reservoir = n_reservoir\n",
    "        self.n_outputs = n_outputs\n",
    "        self.spectral_radius = spectral_radius\n",
    "        self.sparsity = sparsity\n",
    "        self.noise = noise\n",
    "\n",
    "        #self.teacher_scaling = teacher_scaling\n",
    "        #self.teacher_shift = teacher_shift\n",
    "        self.out_activation = out_activation\n",
    "        self.inverse_out_activation = inverse_out_activation\n",
    "        self.random_state = random_state #어디서 필요한지 확인\n",
    "        self.teacher_forcing = teacher_forcing\n",
    "        self.silent = silent\n",
    "        self.initweights()\n",
    "    \n",
    "    def initweights(self, n_input, n_reservoir, n_output, sparsity, spectral_radius):\n",
    "        '''\n",
    "        Create weight matrices with random shape\n",
    "        Requirements of W_res : spectral_raidus(W_res)=the modulus of its largest eigenvalue < 1\n",
    "        Return : W_res NxN | W_in NxK | W_feedb NxL\n",
    "        '''\n",
    "        self.W_in, self.W_res, self.W_feedb\n",
    "\n",
    "    def update_state(self, state, input_pattern, output_pattern): #RESERVOIR\n",
    "        '''\n",
    "        1 step in reservoir state x(n+1)\n",
    "        W_feedb can be nulled / regularization\n",
    "        Arg : state(x(n), Nx1) | input_pattern(u(n+1), Kx1) | output_pattern(y(n), Lx1)\n",
    "        '''\n",
    "        return current_state #x(n+1)\n",
    "\n",
    "    def update_reservoir(self, inputs, is_train=True):\n",
    "        ''' \n",
    "        Using update_state to complete resevoir computation\n",
    "        Arg : inputs N_samplesxK\n",
    "        Return : reservoir state N_maxxN, digit type outputs LxN\n",
    "        '''\n",
    "        return states, outputs\n",
    "    \n",
    "    def readout_weights(self, X, Y): #READOUT\n",
    "        ''' \n",
    "        Using update_reservoir to get the W_out LxN with Ridge regression\n",
    "        '''\n",
    "        return W_out\n",
    "\n",
    "    def display_reservoir(self, states, N_neurons):\n",
    "        '''Display the transient behaviour of neurons''' \n",
    "\n",
    "    def train(self, inputs, targets):\n",
    "        '''\n",
    "        Return network's total output using learned weights\n",
    "        Remember the last state,input,output\n",
    "        '''\n",
    "        states, outputs = update_reservoir(tr_inputs)\n",
    "        W_out = readout_weights(states, outputs)\n",
    "        y_train = np.dot(states, W_out.T)\n",
    "\n",
    "        return y_train\n",
    "\n",
    "    def predict(self, inputs):\n",
    "        ''' \n",
    "        Apply learned weights to the network with new inputs(untrained)\n",
    "        Arg : inputs N_samplesxK\n",
    "        ''' \n",
    "        state_predict, _ = update_reservoir(inputs, is_train=False)\n",
    "        y_predict = np.dot(state_predict, W_out.T)\n",
    "\n",
    "        return y_predict"
   ]
  }
 ],
 "metadata": {
  "kernelspec": {
   "display_name": "blackmamba",
   "language": "python",
   "name": "python3"
  },
  "language_info": {
   "codemirror_mode": {
    "name": "ipython",
    "version": 3
   },
   "file_extension": ".py",
   "mimetype": "text/x-python",
   "name": "python",
   "nbconvert_exporter": "python",
   "pygments_lexer": "ipython3",
   "version": "3.12.3"
  }
 },
 "nbformat": 4,
 "nbformat_minor": 2
}
